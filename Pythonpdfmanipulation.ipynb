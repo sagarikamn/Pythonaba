{
 "cells": [
  {
   "cell_type": "code",
   "execution_count": null,
   "id": "e707a73c-c6f2-4b81-afd4-f90e1a84f6e8",
   "metadata": {},
   "outputs": [],
   "source": [
    "pip install pypdf"
   ]
  },
  {
   "cell_type": "code",
   "execution_count": 4,
   "id": "fd3bc698-360c-4573-84e6-134b1d936c0e",
   "metadata": {},
   "outputs": [
    {
     "name": "stdout",
     "output_type": "stream",
     "text": [
      " \n",
      " \n",
      "  \n",
      "Background  \n",
      " \n",
      "The family consists of four members: parents (John and Mary), and their two \n",
      "children (Sarah, aged 10, and Alex, aged 7). John works full -time while Mary  \n",
      "works part -time from home. The family lives in a suburban neighbo urhood \n",
      "with access to parks and recreational facilities.  \n",
      " \n",
      " \n",
      "Activities Currently in the Daily Family Routine  \n",
      " \n",
      "1. Morning Routine:  \n",
      "Breakfast together, discussing plans for the day, and helping each other \n",
      "prepare for work and school.  \n",
      " \n",
      "2. Afternoon Routine:  \n",
      "After school, children engage in homework while Mary prepares dinner \n",
      "and John helps with household chores or runs errands.  \n",
      " \n",
      "3. Evening Routine:  \n",
      "Family dinner followed by leisure time for board games,  reading, or \n",
      "watching a family -friendly movie.  \n",
      " \n",
      "4. Bedtime Routine:  \n",
      "Parents tuck children into bed, read bedtime stories, and have a brief \n",
      "conversation about their day.   \n",
      " \n"
     ]
    }
   ],
   "source": [
    "#text extraction\n",
    "from pypdf import PdfReader\n",
    "pdf_reader=PdfReader('uhv.pdf')\n",
    "len(pdf_reader.pages)\n",
    "pdf_reader.metadata\n",
    "first_page=pdf_reader.pages[2]\n",
    "print(first_page.extract_text())"
   ]
  },
  {
   "cell_type": "code",
   "execution_count": 6,
   "id": "26676786-2151-4139-9ca2-ef152a2578cd",
   "metadata": {},
   "outputs": [
    {
     "name": "stderr",
     "output_type": "stream",
     "text": [
      "C:\\Users\\nagsn\\AppData\\Local\\Temp\\ipykernel_21204\\1826805532.py:4: DeprecationWarning: PdfMerger is deprecated and will be removed in pypdf 5.0.0. Use PdfWriter instead.\n",
      "  pdfMerger = PdfMerger()\n"
     ]
    }
   ],
   "source": [
    "#merge pdfs\n",
    "from pypdf import PdfMerger \n",
    "def PDFmerge(pdfs, output): \n",
    "    pdfMerger = PdfMerger() \n",
    "    for pdf in pdfs: \n",
    "        pdfMerger.append(pdf) \n",
    "    with open(output, 'wb') as f: \n",
    "        pdfMerger.write(f) \n",
    "def main():  \n",
    "    pdfs = ['uhv.pdf', 'daa.pdf']  \n",
    "    output = 'blank.pdf'\n",
    "    PDFmerge(pdfs=pdfs, output=output) \n",
    "  \n",
    "  \n",
    "if __name__ == \"__main__\": \n",
    "    main() "
   ]
  },
  {
   "cell_type": "code",
   "execution_count": 9,
   "id": "cc120236-c610-483d-9b98-aacc2ec668a9",
   "metadata": {},
   "outputs": [],
   "source": [
    "#split\n",
    "from pypdf import PdfReader, PdfWriter \n",
    "  \n",
    "def PDFsplit(pdf, splits):  \n",
    "    reader = PdfReader(pdf) \n",
    "    start = 0 \n",
    "    end = splits[0] \n",
    "    for i in range(len(splits)+1): \n",
    "        writer = PdfWriter() \n",
    "        outputpdf = pdf.split('.pdf')[0] + str(i) + '.pdf'\n",
    "        for page in range(start,end): \n",
    "            writer.add_page(reader.pages[page])  \n",
    "            with open(outputpdf, \"wb\") as f: \n",
    "                writer.write(f) \n",
    "            start = end \n",
    "            try:\n",
    "                end = splits[i+1] \n",
    "            except IndexError:  \n",
    "                end = len(reader.pages) \n",
    "def main(): \n",
    "    pdf = 'uhv.pdf' \n",
    "    splits = [1,6]  \n",
    "    PDFsplit(pdf, splits) \n",
    "  \n",
    "if __name__ == \"__main__\":  \n",
    "    main() "
   ]
  },
  {
   "cell_type": "code",
   "execution_count": 4,
   "id": "9bb17abe-8e74-4a7c-8de0-ee92e8f1d823",
   "metadata": {},
   "outputs": [],
   "source": [
    "#encryption\n",
    "from pypdf import PdfWriter, PdfReader\n",
    "file = PdfReader(\"uhv.pdf\")\n",
    "out = PdfWriter()\n",
    "for idx in range(len(file.pages)):\n",
    "    page = file.pages[idx]\n",
    "    out.add_page(page)\n",
    "password = \"SagaRishu\"\n",
    "out.encrypt(password)\n",
    "with open(\"uhv.pdf\", \"wb\") as f:\n",
    "    out.write(f)"
   ]
  },
  {
   "cell_type": "code",
   "execution_count": 7,
   "id": "742df493-5d22-4705-8c28-aac198b7d4c9",
   "metadata": {},
   "outputs": [],
   "source": [
    "#decryption\n",
    "from pypdf import PdfWriter, PdfReader\n",
    "out = PdfWriter()\n",
    "file = PdfReader(\"uhv.pdf\")\n",
    "if file.is_encrypted:\n",
    "    file.decrypt(password)\n",
    "for i in range(len(file.pages)):\n",
    "    page = file.pages[i]\n",
    "    out.add_page(page)\n",
    "with open(\"uhv.pdf\", \"wb\") as f:\n",
    "    out.write(f)"
   ]
  },
  {
   "cell_type": "code",
   "execution_count": 45,
   "id": "14b15cbc-faf7-42df-92f8-2eefaf5c5016",
   "metadata": {},
   "outputs": [
    {
     "name": "stdout",
     "output_type": "stream",
     "text": [
      "Requirement already satisfied: aspose-pdf in c:\\users\\nagsn\\anaconda3\\lib\\site-packages (24.6.0)\n",
      "Note: you may need to restart the kernel to use updated packages.\n"
     ]
    }
   ],
   "source": [
    "pip install aspose-pdf"
   ]
  },
  {
   "cell_type": "code",
   "execution_count": 17,
   "id": "1d535de3-44b0-4936-91b8-431011cdcd65",
   "metadata": {},
   "outputs": [
    {
     "name": "stdout",
     "output_type": "stream",
     "text": [
      "Selected pages have been rotated and saved to blank1.pdf\n"
     ]
    }
   ],
   "source": [
    "#page rotation\n",
    "import aspose.pdf as ap\n",
    "input_pdf = \"uhv.pdf\"\n",
    "output_pdf = \"blank1.pdf\"\n",
    "document = ap.Document(input_pdf)\n",
    "pages_to_rotate = [1, 3]\n",
    "rotation_angle = ap.Rotation.ON90  \n",
    "for page_number in pages_to_rotate:\n",
    "    page = document.pages[page_number]\n",
    "    page.rotate = rotation_angle\n",
    "document.save(output_pdf)\n",
    "\n",
    "print(f\"Selected pages have been rotated and saved to {output_pdf}\")"
   ]
  },
  {
   "cell_type": "code",
   "execution_count": 2,
   "id": "8e44ccea-8470-4898-8831-718af1bc7478",
   "metadata": {},
   "outputs": [
    {
     "data": {
      "application/vnd.jupyter.widget-view+json": {
       "model_id": "b3689c6847e543c9a57b56cd3c70530a",
       "version_major": 2,
       "version_minor": 0
      },
      "text/plain": [
       "  0%|          | 0/1 [00:00<?, ?it/s]"
      ]
     },
     "metadata": {},
     "output_type": "display_data"
    }
   ],
   "source": [
    "#conversion of docx to pdf\n",
    "from docx2pdf import convert\n",
    "\n",
    "# Specify the path to the Word file\n",
    "word_file = \"DAA.docx\"\n",
    "# Specify the output path for the PDF file\n",
    "output_pdf = \"blank3.pdf\"\n",
    "\n",
    "# Convert the Word file to PDF\n",
    "convert(word_file, output_pdf)"
   ]
  },
  {
   "cell_type": "code",
   "execution_count": 22,
   "id": "fa9782fa-ea4d-41d7-9667-7c389f0b938f",
   "metadata": {},
   "outputs": [
    {
     "name": "stdout",
     "output_type": "stream",
     "text": [
      "Watermark added to uhv.pdf\n"
     ]
    }
   ],
   "source": [
    "#watermark\n",
    "from PyPDF2 import PdfReader, PdfWriter\n",
    "from reportlab.pdfgen import canvas\n",
    "from reportlab.lib.pagesizes import letter\n",
    "import os\n",
    "\n",
    "def add_watermark(input_file, output_file, watermark_text, transparency=0.5):\n",
    "    with open(input_file, \"rb\") as file:\n",
    "        pdf = PdfReader(file)\n",
    "        writer = PdfWriter()\n",
    "        \n",
    "        for page_num in range(len(pdf.pages)):\n",
    "            page = pdf.pages[page_num]\n",
    "            page_width = float(page.mediabox[2])\n",
    "            page_height = float(page.mediabox[3])\n",
    "            \n",
    "            watermark_pdf_path = f\"watermark_page_{page_num}.pdf\"\n",
    "            \n",
    "            # Create a temporary watermark PDF\n",
    "            c = canvas.Canvas(watermark_pdf_path, pagesize=(page_width, page_height))\n",
    "            c.setFont(\"Helvetica\", 40)\n",
    "            c.setFillAlpha(transparency)\n",
    "            \n",
    "            # Calculate the position to center the watermark\n",
    "            text_width = c.stringWidth(watermark_text, \"Helvetica\", 40)\n",
    "            x = (page_width - text_width) / 2\n",
    "            y = (page_height - 40) / 2\n",
    "            \n",
    "            c.saveState()\n",
    "            c.translate(x, y)\n",
    "            c.rotate(45)\n",
    "            c.drawString(0, 0, watermark_text)\n",
    "            c.restoreState()\n",
    "            c.save()\n",
    "            \n",
    "            # Merge the watermark with the page\n",
    "            watermark_pdf = PdfReader(watermark_pdf_path)\n",
    "            watermark_page = watermark_pdf.pages[0]\n",
    "            page.merge_page(watermark_page)\n",
    "            \n",
    "            writer.add_page(page)\n",
    "            \n",
    "            # Clean up temporary watermark file\n",
    "            os.remove(watermark_pdf_path)\n",
    "        \n",
    "        with open(output_file, \"wb\") as output:\n",
    "            writer.write(output)\n",
    "        print(f\"Watermark added to {output_file}\")\n",
    "\n",
    "# Usage example\n",
    "input_file = \"uhv.pdf\"\n",
    "output_file = \"uhv.pdf\"\n",
    "watermark_text = \"CONFIDENTIAL\"\n",
    "add_watermark(input_file, output_file, watermark_text)\n"
   ]
  },
  {
   "cell_type": "code",
   "execution_count": 15,
   "id": "a907365a-2d56-47bc-b315-14bb670bec70",
   "metadata": {},
   "outputs": [
    {
     "data": {
      "text/plain": [
       "(True, <_io.FileIO [closed]>)"
      ]
     },
     "execution_count": 15,
     "metadata": {},
     "output_type": "execute_result"
    }
   ],
   "source": [
    "#creating new pdf file\n",
    "from pypdf import PdfWriter\n",
    "pdf_writer = PdfWriter()\n",
    "page = pdf_writer.add_blank_page(width=8.27 * 72, height=11.7 * 72)\n",
    "pdf_writer.write(\"blank5.pdf\")\n",
    "\n",
    "\n"
   ]
  },
  {
   "cell_type": "code",
   "execution_count": 12,
   "id": "1259d597-fd27-4a49-a39f-efab1e1d4087",
   "metadata": {},
   "outputs": [
    {
     "data": {
      "text/plain": [
       "(True, <_io.FileIO [closed]>)"
      ]
     },
     "execution_count": 12,
     "metadata": {},
     "output_type": "execute_result"
    }
   ],
   "source": [
    "#copy contetnts of one into other\n",
    "from pathlib import Path\n",
    "from pypdf import PdfReader, PdfWriter\n",
    "input_pdf = PdfReader('uhv.pdf')\n",
    "first_page = input_pdf.pages[0]\n",
    "output_pdf = PdfWriter()\n",
    "output_pdf.add_page(first_page)\n",
    "output_pdf.write(\"new.pdf\")"
   ]
  },
  {
   "cell_type": "code",
   "execution_count": 12,
   "id": "ef8c1e13-8f83-4972-b7a2-e79a556d73f7",
   "metadata": {},
   "outputs": [
    {
     "name": "stdout",
     "output_type": "stream",
     "text": [
      "Requirement already satisfied: PyMuPDF in c:\\users\\nagsn\\anaconda3\\lib\\site-packages (1.24.7)\n",
      "Requirement already satisfied: Pillow in c:\\users\\nagsn\\anaconda3\\lib\\site-packages (10.3.0)\n",
      "Requirement already satisfied: PyMuPDFb==1.24.6 in c:\\users\\nagsn\\anaconda3\\lib\\site-packages (from PyMuPDF) (1.24.6)\n",
      "Note: you may need to restart the kernel to use updated packages.\n"
     ]
    }
   ],
   "source": [
    "pip install PyMuPDF Pillow"
   ]
  },
  {
   "cell_type": "code",
   "execution_count": 28,
   "id": "44d022e2-d689-4736-972a-28697aa20bee",
   "metadata": {},
   "outputs": [
    {
     "name": "stdout",
     "output_type": "stream",
     "text": [
      "[+] Found a total of 2 images in page 0\n",
      "[!] No images found on page 1\n",
      "[!] No images found on page 2\n",
      "[!] No images found on page 3\n",
      "[!] No images found on page 4\n",
      "[!] No images found on page 5\n"
     ]
    }
   ],
   "source": [
    "\n",
    "import fitz\n",
    "import io\n",
    "from PIL import Image\n",
    "\n",
    "# STEP 2\n",
    "# file path you want to extract images from\n",
    "file = \"uhv.pdf\"\n",
    "\n",
    "# open the file\n",
    "pdf_file = fitz.open(file)\n",
    "\n",
    "# STEP 3\n",
    "# iterate over PDF pages\n",
    "for page_index in range(len(pdf_file)):\n",
    "\n",
    "\t# get the page itself\n",
    "\tpage = pdf_file[page_index]\n",
    "\timage_list =page.get_images(full=True)\n",
    "\n",
    "\t# printing number of images found in this page\n",
    "\tif image_list:\n",
    "\t\tprint(\n",
    "\t\t\tf\"[+] Found a total of {len(image_list)} images in page {page_index}\")\n",
    "\telse:\n",
    "\t\tprint(\"[!] No images found on page\", page_index)\n",
    "\tfor image_index, img in enumerate(page.get_images(full=True), start=1):\n",
    "\n",
    "\t\t# get the XREF of the image\n",
    "\t\txref = img[0]\n",
    "\n",
    "\t\t# extract the image bytes\n",
    "\t\tbase_image = pdf_file.extract_image(xref)\n",
    "\t\timage_bytes = base_image[\"image\"]\n",
    "\n",
    "\t\t# get the image extension\n",
    "\t\timage_ext = base_image[\"ext\"]\n"
   ]
  },
  {
   "cell_type": "code",
   "execution_count": 32,
   "id": "4f46846d-a7ce-4d16-92fe-78b80f8da885",
   "metadata": {},
   "outputs": [],
   "source": [
    "#Image extraction\n",
    "import fitz  # PyMuPDF\n",
    "from reportlab.pdfgen import canvas\n",
    "from reportlab.lib.pagesizes import letter\n",
    "\n",
    "# Step 1: Extract all images from the source PDF\n",
    "def extract_images_from_pdf(pdf_path, output_folder):\n",
    "    doc = fitz.open(pdf_path)\n",
    "    image_paths = []\n",
    "    for page_number in range(len(doc)):\n",
    "        page = doc.load_page(page_number)\n",
    "        image_list = page.get_images(full=True)\n",
    "\n",
    "        for img_index, img in enumerate(image_list):\n",
    "            xref = img[0]\n",
    "            base_image = doc.extract_image(xref)\n",
    "            image_bytes = base_image[\"image\"]\n",
    "            image_ext = base_image[\"ext\"]\n",
    "            image_path = f\"{output_folder}/image_{page_number+1}_{img_index+1}.{image_ext}\"\n",
    "\n",
    "            with open(image_path, \"wb\") as image_file:\n",
    "                image_file.write(image_bytes)\n",
    "\n",
    "            image_paths.append(image_path)\n",
    "    return image_paths\n",
    "\n",
    "# Step 2: Insert the extracted images into a new PDF\n",
    "def insert_images_into_pdf(image_paths, output_pdf_path):\n",
    "    c = canvas.Canvas(output_pdf_path, pagesize=letter)\n",
    "\n",
    "    for image_path in image_paths:\n",
    "        c.drawImage(image_path, 100, 500, width=400, height=300)  # Adjust coordinates and size as needed\n",
    "        c.showPage()\n",
    "\n",
    "    # Save the PDF\n",
    "    c.save()\n",
    "\n",
    "# Paths\n",
    "source_pdf_path = \"uhv.pdf\"\n",
    "output_folder = \"extracted_images\"  # Make sure this folder exists\n",
    "output_pdf_path = \"blank4.pdf\"\n",
    "\n",
    "# Extract all images from the source PDF\n",
    "image_paths = extract_images_from_pdf(source_pdf_path, output_folder)\n",
    "\n",
    "# Insert the extracted images into a new PDF\n",
    "insert_images_into_pdf(image_paths, output_pdf_path)"
   ]
  },
  {
   "cell_type": "code",
   "execution_count": null,
   "id": "7f68b052-2969-4372-a383-b15b5fdac9b8",
   "metadata": {},
   "outputs": [],
   "source": []
  }
 ],
 "metadata": {
  "kernelspec": {
   "display_name": "Python 3 (ipykernel)",
   "language": "python",
   "name": "python3"
  },
  "language_info": {
   "codemirror_mode": {
    "name": "ipython",
    "version": 3
   },
   "file_extension": ".py",
   "mimetype": "text/x-python",
   "name": "python",
   "nbconvert_exporter": "python",
   "pygments_lexer": "ipython3",
   "version": "3.12.4"
  }
 },
 "nbformat": 4,
 "nbformat_minor": 5
}
